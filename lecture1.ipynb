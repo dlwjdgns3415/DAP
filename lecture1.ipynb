{
  "nbformat": 4,
  "nbformat_minor": 0,
  "metadata": {
    "colab": {
      "name": "lecture1.ipynb",
      "provenance": [],
      "authorship_tag": "ABX9TyNZtjxfDzAEml7BNteVbZ5r",
      "include_colab_link": true
    },
    "kernelspec": {
      "name": "python3",
      "display_name": "Python 3"
    },
    "language_info": {
      "name": "python"
    }
  },
  "cells": [
    {
      "cell_type": "markdown",
      "metadata": {
        "id": "view-in-github",
        "colab_type": "text"
      },
      "source": [
        "<a href=\"https://colab.research.google.com/github/dlwjdgns3415/DAP/blob/main/lecture1.ipynb\" target=\"_parent\"><img src=\"https://colab.research.google.com/assets/colab-badge.svg\" alt=\"Open In Colab\"/></a>"
      ]
    },
    {
      "cell_type": "code",
      "metadata": {
        "id": "dPDHwmG4P_uZ"
      },
      "source": [
        "import numpy as np\n",
        "import pandas as pd\n",
        "import scipy\n",
        "import matplotlib\n",
        "import seaborn as sns\n",
        "import sklearn"
      ],
      "execution_count": 1,
      "outputs": []
    },
    {
      "cell_type": "code",
      "metadata": {
        "colab": {
          "base_uri": "https://localhost:8080/"
        },
        "id": "04CD_ovhQCkN",
        "outputId": "9a03eb3e-9975-48c7-dfe1-4f6103552729"
      },
      "source": [
        "print(f'numpy verison: {np.__version__}')\n",
        "print(f'pandas verison: {pd.__version__}')\n",
        "print(f'scipy verison: {scipy.__version__}')\n",
        "print(f'matplotlib verison: {matplotlib.__version__}')\n",
        "print(f'seabron verison: {sns.__version__}')\n",
        "print(f'sklearn verison: {sklearn.__version__}')"
      ],
      "execution_count": 2,
      "outputs": [
        {
          "output_type": "stream",
          "name": "stdout",
          "text": [
            "numpy verison: 1.19.5\n",
            "pandas verison: 1.1.5\n",
            "scipy verison: 1.4.1\n",
            "matplotlib verison: 3.2.2\n",
            "seabron verison: 0.11.1\n",
            "sklearn verison: 0.22.2.post1\n"
          ]
        }
      ]
    }
  ]
}